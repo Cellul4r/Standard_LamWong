{
  "nbformat": 4,
  "nbformat_minor": 0,
  "metadata": {
    "colab": {
      "name": "LamThai.ipynb",
      "provenance": [],
      "collapsed_sections": [],
      "mount_file_id": "1ast1TSqfoWqYCNAx8-e2yw8wYNBkiGu-",
      "authorship_tag": "ABX9TyPoAzUj2O0KNAIpU8XaEnAt",
      "include_colab_link": true
    },
    "kernelspec": {
      "name": "python3",
      "display_name": "Python 3"
    },
    "language_info": {
      "name": "python"
    }
  },
  "cells": [
    {
      "cell_type": "markdown",
      "metadata": {
        "id": "view-in-github",
        "colab_type": "text"
      },
      "source": [
        "<a href=\"https://colab.research.google.com/github/Cellul4r/Standard_LamWong/blob/main/LamThai.ipynb\" target=\"_parent\"><img src=\"https://colab.research.google.com/assets/colab-badge.svg\" alt=\"Open In Colab\"/></a>"
      ]
    },
    {
      "cell_type": "code",
      "source": [
        "import cv2\n",
        "import os\n",
        "import time\n",
        "from google.colab import files"
      ],
      "metadata": {
        "id": "wk_ub5mtR-Ag"
      },
      "execution_count": 1,
      "outputs": []
    },
    {
      "cell_type": "code",
      "source": [
        "!unzip -q LamSai.zip"
      ],
      "metadata": {
        "id": "zjxos9xZsDxt"
      },
      "execution_count": null,
      "outputs": []
    },
    {
      "cell_type": "code",
      "execution_count": null,
      "metadata": {
        "id": "_HEs0Eb_1JAd"
      },
      "outputs": [],
      "source": [
        "#extract video frame into images jpg\n",
        "count = 1\n",
        "count_frame = 0\n",
        "try:\n",
        "      \n",
        "    # creating a folder named data\n",
        "    if not os.path.exists('LamSai'):\n",
        "       os.makedirs('LamSai')\n",
        "\n",
        "#if not created then raise error\n",
        "except OSError:\n",
        "    print ('Error: Creating directory of Left_Sodsoimal_Plang')\n",
        "while(count <= 94):\n",
        "  print(\"-----------------------------Video \" + str(count) + '----------------------------')\n",
        "  cam = cv2.VideoCapture(r\"/content/LamSai_vid/\" + str(count) + \".mp4\")\n",
        "  width = int(cam.get(cv2.CAP_PROP_FRAME_WIDTH ))\n",
        "  height = int(cam.get(cv2.CAP_PROP_FRAME_HEIGHT ))\n",
        "  currentframe = 0\n",
        "  while(True):\n",
        "    # reading from frame\n",
        "    ret, frame = cam.read()\n",
        "    if(currentframe % 5 == 0): \n",
        "      if ret:\n",
        "        # if video is still left continue creating images\n",
        "        filename = str(count_frame)  +'.jpg'\n",
        "        name = './LamSai/' + filename\n",
        "        print('Creating...' + name)\n",
        "       # if rotate_code is not None:\n",
        "          #frame = correct_rotation(frame, rotate_code)\n",
        "        # writing the extracted images\n",
        "        cv2.imwrite(name, frame)\n",
        "        src = cv2.imread(name)\n",
        "        resized_image = cv2.resize(src,  (width, height))\n",
        "        try:\n",
        "          os.remove(name)\n",
        "          print('removed image:' + filename)\n",
        "        except:\n",
        "          print('not found')\n",
        "        cv2.imwrite(name, resized_image)\n",
        "        count_frame += 1\n",
        "      else:\n",
        "         print(\"End of video \" + str(count))\n",
        "         break\n",
        "    # increasing counter so that it will\n",
        "    # show how many frames are created\n",
        "    currentframe += 1 \n",
        "  count += 1\n",
        "  \n",
        "  \n",
        "# Release all space and windows once done\n",
        "cam.release()\n",
        "cv2.destroyAllWindows()\n",
        "  \n",
        "# frame"
      ]
    },
    {
      "cell_type": "code",
      "source": [
        "#all images to 1 zip for download easily\n",
        "!zip -r /content/Sodsoimala_Plang1_16.zip /content/Sodsoimala_Plang"
      ],
      "metadata": {
        "id": "B0Q17kBxGiqQ"
      },
      "execution_count": null,
      "outputs": []
    },
    {
      "cell_type": "code",
      "source": [
        "for i in range(542):\n",
        "  try:\n",
        "      os.remove('/content/Sodsoimala_Plang/Sodsoimala_Plang_' + str(i) + '.jpg')\n",
        "      print('this video_{} removed'.format(i))\n",
        "  except:\n",
        "    print('No file of Sodsoimala__Plang' + str(i) + '.jpg')"
      ],
      "metadata": {
        "id": "DF7jhyspkHaW"
      },
      "execution_count": null,
      "outputs": []
    },
    {
      "cell_type": "code",
      "source": [
        "files.download('/content/Sodsoimala_Plang/Sodsoimala_Plang_2000.jpg')"
      ],
      "metadata": {
        "id": "sQrY6d5Xb1Wu",
        "colab": {
          "base_uri": "https://localhost:8080/",
          "height": 17
        },
        "outputId": "a351c6c4-2a8c-4914-bc9d-c9b429fc9cb4"
      },
      "execution_count": null,
      "outputs": [
        {
          "output_type": "display_data",
          "data": {
            "text/plain": [
              "<IPython.core.display.Javascript object>"
            ],
            "application/javascript": [
              "\n",
              "    async function download(id, filename, size) {\n",
              "      if (!google.colab.kernel.accessAllowed) {\n",
              "        return;\n",
              "      }\n",
              "      const div = document.createElement('div');\n",
              "      const label = document.createElement('label');\n",
              "      label.textContent = `Downloading \"${filename}\": `;\n",
              "      div.appendChild(label);\n",
              "      const progress = document.createElement('progress');\n",
              "      progress.max = size;\n",
              "      div.appendChild(progress);\n",
              "      document.body.appendChild(div);\n",
              "\n",
              "      const buffers = [];\n",
              "      let downloaded = 0;\n",
              "\n",
              "      const channel = await google.colab.kernel.comms.open(id);\n",
              "      // Send a message to notify the kernel that we're ready.\n",
              "      channel.send({})\n",
              "\n",
              "      for await (const message of channel.messages) {\n",
              "        // Send a message to notify the kernel that we're ready.\n",
              "        channel.send({})\n",
              "        if (message.buffers) {\n",
              "          for (const buffer of message.buffers) {\n",
              "            buffers.push(buffer);\n",
              "            downloaded += buffer.byteLength;\n",
              "            progress.value = downloaded;\n",
              "          }\n",
              "        }\n",
              "      }\n",
              "      const blob = new Blob(buffers, {type: 'application/binary'});\n",
              "      const a = document.createElement('a');\n",
              "      a.href = window.URL.createObjectURL(blob);\n",
              "      a.download = filename;\n",
              "      div.appendChild(a);\n",
              "      a.click();\n",
              "      div.remove();\n",
              "    }\n",
              "  "
            ]
          },
          "metadata": {}
        },
        {
          "output_type": "display_data",
          "data": {
            "text/plain": [
              "<IPython.core.display.Javascript object>"
            ],
            "application/javascript": [
              "download(\"download_ecd79ccf-464f-45b8-a450-fcee1934bf6d\", \"Sodsoimala_Plang_2000.jpg\", 202669)"
            ]
          },
          "metadata": {}
        }
      ]
    }
  ]
}